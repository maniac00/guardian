{
 "cells": [
  {
   "cell_type": "code",
   "execution_count": 1,
   "id": "b8c0e2cf-7911-4c85-a8ea-37aa5ddf5f49",
   "metadata": {},
   "outputs": [],
   "source": [
    "import cv2\n",
    "import mediapipe as mp\n",
    "import numpy as np\n",
    "import os\n",
    "import random\n",
    "import gc\n",
    "import time\n",
    "import torch\n",
    "import torch.nn as nn\n",
    "import torch.optim as optim\n",
    "import torch.nn.functional as F\n",
    "import matplotlib.pyplot as plt\n",
    "\n",
    "from IPython.display import Image, clear_output\n",
    "from torch.cuda import memory_allocated, empty_cache\n",
    "from torch.optim import Adam\n",
    "from torch.utils.data import random_split\n",
    "from torch.utils.data import Dataset, DataLoader\n",
    "from glob import glob\n",
    "from tqdm import tqdm\n",
    "# from google.colab.patches import cv2_imshow\n",
    "\n",
    "%matplotlib inline"
   ]
  },
  {
   "cell_type": "code",
   "execution_count": 2,
   "id": "f81d9af3-b633-44bf-9dea-058c59e9ed1f",
   "metadata": {},
   "outputs": [
    {
     "name": "stderr",
     "output_type": "stream",
     "text": [
      "Using cache found in /Users/kimsungwook/.cache/torch/hub/ultralytics_yolov5_master\n",
      "YOLOv5 🚀 2024-4-17 Python-3.11.7 torch-2.2.2 CPU\n",
      "\n",
      "Fusing layers... \n",
      "YOLOv5s summary: 213 layers, 7225885 parameters, 0 gradients, 16.4 GFLOPs\n",
      "Adding AutoShape... \n"
     ]
    }
   ],
   "source": [
    "# torch_ver Yolov5\n",
    "yolo_model = torch.hub.load('ultralytics/yolov5', 'yolov5s',\n",
    "                            device='cuda:0' if torch.cuda.is_available() else 'cpu')  # 예측 모델\n",
    "yolo_model.classes = [0]  # 예측 클래스 (0 : 사람)"
   ]
  },
  {
   "cell_type": "code",
   "execution_count": 3,
   "id": "9f56863c-78f3-413a-8796-1099d7db46ab",
   "metadata": {},
   "outputs": [
    {
     "name": "stdout",
     "output_type": "stream",
     "text": [
      "Pose : Only Body\n"
     ]
    }
   ],
   "source": [
    "BATCH_SIZE = 6\n",
    "EPOCH = 700\n",
    "NUM_LAYERS = 1      # LSTM model: num_layers\n",
    "start_dot = 11      # mp.solutions.pose 시작 포인트 (0: 얼굴부터 발목까지, 11: 어깨부터 발목까지)\n",
    "n_CONFIDENCE = 0.3    # MediaPipe Min Detectin confidence check\n",
    "y_CONFIDENCE = 0.3    # Yolv5 Min Detectin confidence check\n",
    "\n",
    "mp_pose = mp.solutions.pose\n",
    "attention_dot = [n for n in range(start_dot, 29)]\n",
    "\n",
    "# 라인 그리기\n",
    "if start_dot == 11:\n",
    "    \"\"\"몸 부분만\"\"\"\n",
    "    draw_line = [[11, 13], [13, 15], [15, 21], [15, 19], [15, 17], [17, 19], \\\n",
    "                [12, 14], [14, 16], [16, 22], [16, 20], [16, 18], [18, 20], \\\n",
    "                [23, 25], [25, 27], [24, 26], [26, 28], [11, 12], [11, 23], \\\n",
    "                [23, 24], [12, 24]]\n",
    "    print('Pose : Only Body')\n",
    "\n",
    "else:\n",
    "    \"\"\"얼굴 포함\"\"\"\n",
    "    draw_line = [[11, 13], [13, 15], [15, 21], [15, 19], [15, 17], [17, 19], \\\n",
    "                [12, 14], [14, 16], [16, 22], [16, 20], [16, 18], [18, 20], \\\n",
    "                [23, 25], [25, 27], [24, 26], [26, 28], [11, 12], [11, 23], \\\n",
    "                [23, 24], [12, 24], [9, 10], [0, 5], [0, 2], [5, 8], [2, 7]]\n",
    "    print('Pose : Face + Body')"
   ]
  },
  {
   "cell_type": "code",
   "execution_count": 4,
   "id": "630da7c1-6048-4546-a8e2-4caf393b1483",
   "metadata": {},
   "outputs": [
    {
     "data": {
      "text/plain": [
       "'../zerobase_DL_project/datas/dataset'"
      ]
     },
     "execution_count": 4,
     "metadata": {},
     "output_type": "execute_result"
    }
   ],
   "source": [
    "video_path = '../zerobase_DL_project/datas/dataset' # dataset 경로\n",
    "video_path"
   ]
  },
  {
   "cell_type": "code",
   "execution_count": 83,
   "id": "cce1e0d8-50f6-4317-85c8-c79011a10460",
   "metadata": {},
   "outputs": [],
   "source": [
    "raw_data = []"
   ]
  },
  {
   "cell_type": "code",
   "execution_count": 6,
   "id": "882efc7d-bd3b-42c1-aa2d-06e4e77ff834",
   "metadata": {},
   "outputs": [
    {
     "data": {
      "text/plain": [
       "['abnormal', 'normal']"
      ]
     },
     "execution_count": 6,
     "metadata": {},
     "output_type": "execute_result"
    }
   ],
   "source": [
    "os.listdir(video_path)"
   ]
  },
  {
   "cell_type": "code",
   "execution_count": 7,
   "id": "1deb2fd3-d85d-4abe-ad45-2974e58420e3",
   "metadata": {},
   "outputs": [
    {
     "data": {
      "text/plain": [
       "['04_normal_30.mp4',\n",
       " '07_normal_30.mp4',\n",
       " '10_normal_30.mp4',\n",
       " '03_normal_30.mp4',\n",
       " '09_normal_30.mp4',\n",
       " '08_normal_30.mp4',\n",
       " '02_normal_30.mp4',\n",
       " '06_normal_30.mp4',\n",
       " '01_normal_30.mp4',\n",
       " '05_normal_30.mp4']"
      ]
     },
     "execution_count": 7,
     "metadata": {},
     "output_type": "execute_result"
    }
   ],
   "source": [
    "os.listdir(video_path + '/' + 'normal')"
   ]
  },
  {
   "cell_type": "code",
   "execution_count": 8,
   "id": "2f69eba6-56c9-4f60-9b9c-8077632fa2e5",
   "metadata": {},
   "outputs": [
    {
     "data": {
      "text/plain": [
       "True"
      ]
     },
     "execution_count": 8,
     "metadata": {},
     "output_type": "execute_result"
    }
   ],
   "source": [
    "int('01_normal_30.mp4'.split('_')[2][:2]) >= 30"
   ]
  },
  {
   "cell_type": "code",
   "execution_count": 9,
   "id": "27385451-30fb-4c5f-9946-27c131ea7cc9",
   "metadata": {},
   "outputs": [
    {
     "data": {
      "text/plain": [
       "True"
      ]
     },
     "execution_count": 9,
     "metadata": {},
     "output_type": "execute_result"
    }
   ],
   "source": [
    "'01_normal_30.mp4'.split('_')[1] == 'normal'"
   ]
  },
  {
   "cell_type": "code",
   "execution_count": 10,
   "id": "4f0f3181-f4af-4ff5-a000-9ef1fe80561c",
   "metadata": {},
   "outputs": [],
   "source": [
    "label = 0"
   ]
  },
  {
   "cell_type": "code",
   "execution_count": 11,
   "id": "bec54c5b-cba7-4f08-a398-5f8350f284f5",
   "metadata": {},
   "outputs": [],
   "source": [
    "# skel_data_n, skel_data_f = get_skeleton('{}/{}'.format(video_path + '/' + fold, video_name), attention_dot, draw_line)"
   ]
  },
  {
   "cell_type": "code",
   "execution_count": 12,
   "id": "9157e0c1-6eaf-457b-bc12-056b2df84a2e",
   "metadata": {},
   "outputs": [],
   "source": [
    "a = '{}/{}'.format('../zerobase_DL_project/datas/dataset' + '/' + 'normal', '01_normal_30.mp4')"
   ]
  },
  {
   "cell_type": "code",
   "execution_count": 13,
   "id": "7d7297d3-b269-4ad0-9412-65867612fb65",
   "metadata": {},
   "outputs": [
    {
     "data": {
      "text/plain": [
       "[11, 12, 13, 14, 15, 16, 17, 18, 19, 20, 21, 22, 23, 24, 25, 26, 27, 28]"
      ]
     },
     "execution_count": 13,
     "metadata": {},
     "output_type": "execute_result"
    }
   ],
   "source": [
    "attention_dot"
   ]
  },
  {
   "cell_type": "code",
   "execution_count": 14,
   "id": "bdc0b66a-a7a8-477c-b1b2-05f92f27c94e",
   "metadata": {},
   "outputs": [
    {
     "data": {
      "text/plain": [
       "[[11, 13],\n",
       " [13, 15],\n",
       " [15, 21],\n",
       " [15, 19],\n",
       " [15, 17],\n",
       " [17, 19],\n",
       " [12, 14],\n",
       " [14, 16],\n",
       " [16, 22],\n",
       " [16, 20],\n",
       " [16, 18],\n",
       " [18, 20],\n",
       " [23, 25],\n",
       " [25, 27],\n",
       " [24, 26],\n",
       " [26, 28],\n",
       " [11, 12],\n",
       " [11, 23],\n",
       " [23, 24],\n",
       " [12, 24]]"
      ]
     },
     "execution_count": 14,
     "metadata": {},
     "output_type": "execute_result"
    }
   ],
   "source": [
    "draw_line"
   ]
  },
  {
   "cell_type": "code",
   "execution_count": 15,
   "id": "38cd5982-4123-4b41-b5f3-fc0069be16f2",
   "metadata": {},
   "outputs": [],
   "source": [
    "# Yolov4 바운딩 box 안에서 media pipe 데이터 전처리 함수"
   ]
  },
  {
   "cell_type": "code",
   "execution_count": 16,
   "id": "2799b41d-279f-4459-a690-cbbd27172fb6",
   "metadata": {},
   "outputs": [],
   "source": [
    "frame_length = 30 # LSTM 모델에 넣을 frame 수"
   ]
  },
  {
   "cell_type": "code",
   "execution_count": 17,
   "id": "c49a34ac-1b60-4f04-860b-cfd512bd85c5",
   "metadata": {},
   "outputs": [],
   "source": [
    "xy_list_list, xy_list_list_flip = [], []"
   ]
  },
  {
   "cell_type": "code",
   "execution_count": 18,
   "id": "0e59ae2e-007b-4ca9-a64d-4ed63ee3c9f9",
   "metadata": {},
   "outputs": [],
   "source": [
    "cv2.destroyAllWindows()"
   ]
  },
  {
   "cell_type": "code",
   "execution_count": 19,
   "id": "c3b5ce5b-eec4-43ce-bbe7-e61d5bf98338",
   "metadata": {},
   "outputs": [
    {
     "name": "stderr",
     "output_type": "stream",
     "text": [
      "WARNING: All log messages before absl::InitializeLog() is called are written to STDERR\n",
      "I0000 00:00:1713770130.419851 1211075 gl_context.cc:357] GL version: 2.1 (2.1 Metal - 88), renderer: Apple M2\n",
      "INFO: Created TensorFlow Lite XNNPACK delegate for CPU.\n"
     ]
    }
   ],
   "source": [
    "pose = mp_pose.Pose(static_image_mode = True, model_complexity = 1, \\\n",
    "                        enable_segmentation = False, min_detection_confidence = n_CONFIDENCE)"
   ]
  },
  {
   "cell_type": "code",
   "execution_count": 20,
   "id": "873ff4f2-a467-49c8-ac34-86735a79eb8e",
   "metadata": {},
   "outputs": [],
   "source": [
    "cap = cv2.VideoCapture(a)"
   ]
  },
  {
   "cell_type": "code",
   "execution_count": 21,
   "id": "563966a3-1f45-4693-bed6-c26875e1ac98",
   "metadata": {},
   "outputs": [
    {
     "data": {
      "text/plain": [
       "True"
      ]
     },
     "execution_count": 21,
     "metadata": {},
     "output_type": "execute_result"
    }
   ],
   "source": [
    "cap.isOpened()"
   ]
  },
  {
   "cell_type": "code",
   "execution_count": 22,
   "id": "3c75724b-2f40-442f-9e86-d50c66fab271",
   "metadata": {},
   "outputs": [],
   "source": [
    "ret, img = cap.read()"
   ]
  },
  {
   "cell_type": "code",
   "execution_count": 23,
   "id": "5600c703-ff55-443c-8aab-bdbf26b4ce12",
   "metadata": {},
   "outputs": [
    {
     "data": {
      "text/plain": [
       "True"
      ]
     },
     "execution_count": 23,
     "metadata": {},
     "output_type": "execute_result"
    }
   ],
   "source": [
    "ret"
   ]
  },
  {
   "cell_type": "code",
   "execution_count": 24,
   "id": "7d19ddf4-8cd1-469a-a91a-493e335bfb45",
   "metadata": {},
   "outputs": [
    {
     "data": {
      "text/plain": [
       "array([[[ 35,  34,  18],\n",
       "        [ 35,  34,  18],\n",
       "        [ 35,  34,  18],\n",
       "        ...,\n",
       "        [175, 160,  96],\n",
       "        [178, 162, 101],\n",
       "        [179, 164, 102]],\n",
       "\n",
       "       [[ 35,  34,  18],\n",
       "        [ 35,  34,  18],\n",
       "        [ 35,  34,  18],\n",
       "        ...,\n",
       "        [127, 112,  48],\n",
       "        [129, 113,  52],\n",
       "        [130, 115,  53]],\n",
       "\n",
       "       [[ 35,  34,  18],\n",
       "        [ 35,  34,  18],\n",
       "        [ 35,  34,  18],\n",
       "        ...,\n",
       "        [131, 117,  51],\n",
       "        [130, 115,  51],\n",
       "        [129, 113,  49]],\n",
       "\n",
       "       ...,\n",
       "\n",
       "       [[ 42,  40,  47],\n",
       "        [ 42,  40,  47],\n",
       "        [ 44,  41,  48],\n",
       "        ...,\n",
       "        [151, 130, 131],\n",
       "        [148, 127, 129],\n",
       "        [148, 127, 129]],\n",
       "\n",
       "       [[ 40,  35,  42],\n",
       "        [ 42,  38,  45],\n",
       "        [ 46,  41,  48],\n",
       "        ...,\n",
       "        [151, 130, 131],\n",
       "        [148, 127, 129],\n",
       "        [148, 127, 129]],\n",
       "\n",
       "       [[ 23,  18,  25],\n",
       "        [ 25,  20,  27],\n",
       "        [ 31,  26,  33],\n",
       "        ...,\n",
       "        [151, 130, 131],\n",
       "        [148, 127, 129],\n",
       "        [148, 127, 129]]], dtype=uint8)"
      ]
     },
     "execution_count": 24,
     "metadata": {},
     "output_type": "execute_result"
    }
   ],
   "source": [
    "img"
   ]
  },
  {
   "cell_type": "code",
   "execution_count": 25,
   "id": "190d6de0-ae2c-43eb-bdf5-44421f161209",
   "metadata": {},
   "outputs": [],
   "source": [
    "img = cv2.resize(img, (640, 640))"
   ]
  },
  {
   "cell_type": "code",
   "execution_count": 26,
   "id": "744fe8a4-df2f-4db5-a22c-a7393a28441a",
   "metadata": {
    "scrolled": true
   },
   "outputs": [
    {
     "data": {
      "text/plain": [
       "array([[[ 35,  34,  18],\n",
       "        [ 35,  34,  18],\n",
       "        [ 35,  34,  18],\n",
       "        ...,\n",
       "        [147, 135,  65],\n",
       "        [153, 139,  73],\n",
       "        [161, 145,  84]],\n",
       "\n",
       "       [[ 35,  34,  18],\n",
       "        [ 35,  34,  18],\n",
       "        [ 35,  34,  18],\n",
       "        ...,\n",
       "        [151, 138,  67],\n",
       "        [137, 124,  54],\n",
       "        [130, 115,  51]],\n",
       "\n",
       "       [[ 34,  33,  17],\n",
       "        [ 35,  34,  18],\n",
       "        [ 35,  34,  18],\n",
       "        ...,\n",
       "        [147, 134,  63],\n",
       "        [146, 133,  62],\n",
       "        [144, 130,  64]],\n",
       "\n",
       "       ...,\n",
       "\n",
       "       [[ 33,  32,  38],\n",
       "        [ 28,  27,  34],\n",
       "        [ 21,  20,  26],\n",
       "        ...,\n",
       "        [153, 132, 133],\n",
       "        [153, 132, 133],\n",
       "        [149, 128, 130]],\n",
       "\n",
       "       [[ 42,  40,  47],\n",
       "        [ 40,  38,  45],\n",
       "        [ 28,  26,  33],\n",
       "        ...,\n",
       "        [153, 132, 133],\n",
       "        [153, 132, 133],\n",
       "        [148, 127, 129]],\n",
       "\n",
       "       [[ 31,  26,  33],\n",
       "        [ 43,  38,  45],\n",
       "        [ 46,  42,  49],\n",
       "        ...,\n",
       "        [153, 132, 133],\n",
       "        [153, 132, 133],\n",
       "        [148, 127, 129]]], dtype=uint8)"
      ]
     },
     "execution_count": 26,
     "metadata": {},
     "output_type": "execute_result"
    }
   ],
   "source": [
    "img"
   ]
  },
  {
   "cell_type": "code",
   "execution_count": 27,
   "id": "8f5a614d-dfe8-420c-a2e1-fc1ef92954c5",
   "metadata": {},
   "outputs": [],
   "source": [
    "res = yolo_model(img)"
   ]
  },
  {
   "cell_type": "code",
   "execution_count": 28,
   "id": "f20c8b8e-665f-4883-944e-082844e4597d",
   "metadata": {},
   "outputs": [
    {
     "data": {
      "text/plain": [
       "YOLOv5 <class 'models.common.Detections'> instance\n",
       "image 1/1: 640x640 1 person\n",
       "Speed: 5.6ms pre-process, 130.2ms inference, 0.9ms NMS per image at shape (1, 3, 640, 640)"
      ]
     },
     "execution_count": 28,
     "metadata": {},
     "output_type": "execute_result"
    }
   ],
   "source": [
    "res"
   ]
  },
  {
   "cell_type": "code",
   "execution_count": 29,
   "id": "9d0b3325-dfbc-4730-8c91-34d96cc6eed8",
   "metadata": {},
   "outputs": [],
   "source": [
    "res_refine = res.pandas().xyxy[0].values"
   ]
  },
  {
   "cell_type": "code",
   "execution_count": 30,
   "id": "7a6563c7-6812-486d-8c67-454220e32d1e",
   "metadata": {},
   "outputs": [
    {
     "data": {
      "text/plain": [
       "array([[348.2632751464844, 37.53910827636719, 404.1838684082031, 373.28717041015625, 0.8492674231529236, 0, 'person']], dtype=object)"
      ]
     },
     "execution_count": 30,
     "metadata": {},
     "output_type": "execute_result"
    }
   ],
   "source": [
    "res_refine"
   ]
  },
  {
   "cell_type": "code",
   "execution_count": 31,
   "id": "93f38ac3-de14-43c3-bd65-d4fb5a1c8238",
   "metadata": {},
   "outputs": [
    {
     "data": {
      "text/plain": [
       "1"
      ]
     },
     "execution_count": 31,
     "metadata": {},
     "output_type": "execute_result"
    }
   ],
   "source": [
    "len(res_refine)"
   ]
  },
  {
   "cell_type": "code",
   "execution_count": 32,
   "id": "5bb96594-af2b-4869-90c8-ce2fa3bc27a5",
   "metadata": {},
   "outputs": [],
   "source": [
    "nms_human = len(res_refine)"
   ]
  },
  {
   "cell_type": "code",
   "execution_count": 33,
   "id": "83caebde-52c5-4a1d-a1d3-979783267f4b",
   "metadata": {},
   "outputs": [],
   "source": [
    "bbox = [348.2632751464844, 37.53910827636719, 404.1838684082031, 373.28717041015625, 0.8492674231529236, 0, 'person']"
   ]
  },
  {
   "cell_type": "code",
   "execution_count": 34,
   "id": "e9bd80ab-a1b4-4f40-a906-a220cdd4a471",
   "metadata": {},
   "outputs": [],
   "source": [
    "xx1, yy1, xx2, yy2 = int(bbox[0])-10, int(bbox[1]), int(bbox[2])+10, int(bbox[3])"
   ]
  },
  {
   "cell_type": "code",
   "execution_count": 35,
   "id": "e59a7983-8a2e-4ac3-ac20-be76611c3427",
   "metadata": {},
   "outputs": [
    {
     "data": {
      "text/plain": [
       "338"
      ]
     },
     "execution_count": 35,
     "metadata": {},
     "output_type": "execute_result"
    }
   ],
   "source": [
    "xx1"
   ]
  },
  {
   "cell_type": "code",
   "execution_count": 36,
   "id": "906a6cd3-6253-4f2e-ae06-da0c8eb544e3",
   "metadata": {},
   "outputs": [
    {
     "data": {
      "text/plain": [
       "37"
      ]
     },
     "execution_count": 36,
     "metadata": {},
     "output_type": "execute_result"
    }
   ],
   "source": [
    "yy1"
   ]
  },
  {
   "cell_type": "code",
   "execution_count": 37,
   "id": "184b634d-f3aa-4d0d-a8d2-014529c60f7d",
   "metadata": {},
   "outputs": [
    {
     "data": {
      "text/plain": [
       "414"
      ]
     },
     "execution_count": 37,
     "metadata": {},
     "output_type": "execute_result"
    }
   ],
   "source": [
    "xx2"
   ]
  },
  {
   "cell_type": "code",
   "execution_count": 38,
   "id": "248046fb-9a90-4efc-be16-3e3e21d46738",
   "metadata": {},
   "outputs": [
    {
     "data": {
      "text/plain": [
       "373"
      ]
     },
     "execution_count": 38,
     "metadata": {},
     "output_type": "execute_result"
    }
   ],
   "source": [
    "yy2"
   ]
  },
  {
   "cell_type": "code",
   "execution_count": 39,
   "id": "a9b037b0-188c-4ac9-8b9c-fce63d9995dd",
   "metadata": {},
   "outputs": [],
   "source": [
    "if xx1 < 0:\n",
    "    xx1 = 0\n",
    "elif xx2 > 639:\n",
    "    xx2 = 639\n",
    "if yy1 < 0:\n",
    "    yy1 = 0\n",
    "elif yy2 > 639:\n",
    "    yy2 = 639"
   ]
  },
  {
   "cell_type": "code",
   "execution_count": 40,
   "id": "6b2d1903-6afd-438a-a788-65fc4e3c2822",
   "metadata": {},
   "outputs": [
    {
     "name": "stdout",
     "output_type": "stream",
     "text": [
      "(338, 37)\n"
     ]
    }
   ],
   "source": [
    "start_point = (xx1, yy1)\n",
    "print(start_point)"
   ]
  },
  {
   "cell_type": "code",
   "execution_count": 41,
   "id": "b288cef9-a0b0-4ed6-8fa2-cebe124bd016",
   "metadata": {},
   "outputs": [
    {
     "name": "stdout",
     "output_type": "stream",
     "text": [
      "(414, 373)\n"
     ]
    }
   ],
   "source": [
    "end_point = (xx2, yy2)\n",
    "print(end_point)"
   ]
  },
  {
   "cell_type": "code",
   "execution_count": 42,
   "id": "5fdaa935-3527-4ba8-a6e4-dbf979f17daa",
   "metadata": {},
   "outputs": [
    {
     "data": {
      "text/plain": [
       "True"
      ]
     },
     "execution_count": 42,
     "metadata": {},
     "output_type": "execute_result"
    }
   ],
   "source": [
    "bbox[4] > y_CONFIDENCE"
   ]
  },
  {
   "cell_type": "code",
   "execution_count": 43,
   "id": "33281784-6bd5-4d5b-a85f-0c74d54e497e",
   "metadata": {},
   "outputs": [
    {
     "data": {
      "text/plain": [
       "0.8492674231529236"
      ]
     },
     "execution_count": 43,
     "metadata": {},
     "output_type": "execute_result"
    }
   ],
   "source": [
    "bbox[4]"
   ]
  },
  {
   "cell_type": "code",
   "execution_count": 44,
   "id": "d90f4204-5ec0-4943-926e-b30f6e1eaf00",
   "metadata": {},
   "outputs": [],
   "source": [
    "c_img = img[yy1:yy2, xx1:xx2]"
   ]
  },
  {
   "cell_type": "code",
   "execution_count": 45,
   "id": "140cc75e-b63e-47ab-bac6-d4826ed9da57",
   "metadata": {},
   "outputs": [
    {
     "data": {
      "text/plain": [
       "array([[[168, 195, 185],\n",
       "        [170, 193, 184],\n",
       "        [168, 192, 182],\n",
       "        ...,\n",
       "        [ 75,  96, 109],\n",
       "        [ 75,  96, 110],\n",
       "        [ 70, 100, 108]],\n",
       "\n",
       "       [[166, 193, 182],\n",
       "        [166, 193, 182],\n",
       "        [167, 194, 183],\n",
       "        ...,\n",
       "        [ 80,  97, 105],\n",
       "        [ 74,  96, 105],\n",
       "        [ 77,  97, 107]],\n",
       "\n",
       "       [[166, 195, 185],\n",
       "        [166, 195, 185],\n",
       "        [166, 195, 185],\n",
       "        ...,\n",
       "        [ 85,  98, 107],\n",
       "        [ 79,  96, 104],\n",
       "        [ 79,  95, 105]],\n",
       "\n",
       "       ...,\n",
       "\n",
       "       [[182, 179, 176],\n",
       "        [181, 178, 175],\n",
       "        [181, 178, 175],\n",
       "        ...,\n",
       "        [101, 116, 126],\n",
       "        [102, 117, 127],\n",
       "        [102, 117, 128]],\n",
       "\n",
       "       [[182, 179, 176],\n",
       "        [181, 178, 175],\n",
       "        [181, 178, 175],\n",
       "        ...,\n",
       "        [ 99, 114, 124],\n",
       "        [ 97, 113, 123],\n",
       "        [ 99, 114, 124]],\n",
       "\n",
       "       [[182, 179, 176],\n",
       "        [181, 178, 175],\n",
       "        [181, 178, 175],\n",
       "        ...,\n",
       "        [ 97, 112, 123],\n",
       "        [ 96, 111, 122],\n",
       "        [ 97, 112, 123]]], dtype=uint8)"
      ]
     },
     "execution_count": 45,
     "metadata": {},
     "output_type": "execute_result"
    }
   ],
   "source": [
    "c_img"
   ]
  },
  {
   "cell_type": "code",
   "execution_count": 46,
   "id": "7659ee25-4e55-449b-bf42-e9ebdb8a664a",
   "metadata": {},
   "outputs": [],
   "source": [
    "results = pose.process(cv2.cvtColor(c_img, cv2.COLOR_BGR2RGB))"
   ]
  },
  {
   "cell_type": "code",
   "execution_count": 47,
   "id": "8ac47d2e-5d46-4564-a35e-4f07a21ab136",
   "metadata": {},
   "outputs": [
    {
     "data": {
      "text/plain": [
       "mediapipe.python.solution_base.SolutionOutputs"
      ]
     },
     "execution_count": 47,
     "metadata": {},
     "output_type": "execute_result"
    }
   ],
   "source": [
    "results"
   ]
  },
  {
   "cell_type": "code",
   "execution_count": 48,
   "id": "baa37fc2-69a4-4ce4-9a89-f000ff3f0b4e",
   "metadata": {},
   "outputs": [
    {
     "data": {
      "text/plain": [
       "landmark {\n",
       "  x: 0.7647152543067932\n",
       "  y: 0.15660327672958374\n",
       "  z: -1.738620400428772\n",
       "  visibility: 0.9999854564666748\n",
       "}\n",
       "landmark {\n",
       "  x: 0.759145975112915\n",
       "  y: 0.13608139753341675\n",
       "  z: -1.5799812078475952\n",
       "  visibility: 0.9999537467956543\n",
       "}\n",
       "landmark {\n",
       "  x: 0.7699788212776184\n",
       "  y: 0.1356266438961029\n",
       "  z: -1.580010175704956\n",
       "  visibility: 0.9999368190765381\n",
       "}\n",
       "landmark {\n",
       "  x: 0.7794783115386963\n",
       "  y: 0.13507285714149475\n",
       "  z: -1.5803334712982178\n",
       "  visibility: 0.9999105930328369\n",
       "}\n",
       "landmark {\n",
       "  x: 0.7030701637268066\n",
       "  y: 0.13584226369857788\n",
       "  z: -1.6820127964019775\n",
       "  visibility: 0.999975323677063\n",
       "}\n",
       "landmark {\n",
       "  x: 0.6740812063217163\n",
       "  y: 0.1354929804801941\n",
       "  z: -1.6822608709335327\n",
       "  visibility: 0.9999821186065674\n",
       "}\n",
       "landmark {\n",
       "  x: 0.6453526616096497\n",
       "  y: 0.13525858521461487\n",
       "  z: -1.6820390224456787\n",
       "  visibility: 0.9999833106994629\n",
       "}\n",
       "landmark {\n",
       "  x: 0.7177807092666626\n",
       "  y: 0.14224877953529358\n",
       "  z: -0.7812544703483582\n",
       "  visibility: 0.9998499155044556\n",
       "}\n",
       "landmark {\n",
       "  x: 0.5535531044006348\n",
       "  y: 0.1436803936958313\n",
       "  z: -1.216997742652893\n",
       "  visibility: 0.9999855756759644\n",
       "}\n",
       "landmark {\n",
       "  x: 0.7590024471282959\n",
       "  y: 0.1782078742980957\n",
       "  z: -1.4257824420928955\n",
       "  visibility: 0.9999369382858276\n",
       "}\n",
       "landmark {\n",
       "  x: 0.6973786354064941\n",
       "  y: 0.177474707365036\n",
       "  z: -1.548446536064148\n",
       "  visibility: 0.9999785423278809\n",
       "}\n",
       "landmark {\n",
       "  x: 0.6499341130256653\n",
       "  y: 0.26237937808036804\n",
       "  z: 0.2193731814622879\n",
       "  visibility: 0.9958162903785706\n",
       "}\n",
       "landmark {\n",
       "  x: 0.41549110412597656\n",
       "  y: 0.2807605266571045\n",
       "  z: -1.5666638612747192\n",
       "  visibility: 0.9999613761901855\n",
       "}\n",
       "landmark {\n",
       "  x: 0.5539072751998901\n",
       "  y: 0.4263756275177002\n",
       "  z: 0.5045569539070129\n",
       "  visibility: 0.017553703859448433\n",
       "}\n",
       "landmark {\n",
       "  x: 0.35782763361930847\n",
       "  y: 0.4648567736148834\n",
       "  z: -1.7022684812545776\n",
       "  visibility: 0.9993019104003906\n",
       "}\n",
       "landmark {\n",
       "  x: 0.6685929298400879\n",
       "  y: 0.5433428883552551\n",
       "  z: 0.4981497824192047\n",
       "  visibility: 0.04754546657204628\n",
       "}\n",
       "landmark {\n",
       "  x: 0.39637356996536255\n",
       "  y: 0.6316137909889221\n",
       "  z: -1.8283414840698242\n",
       "  visibility: 0.9953433871269226\n",
       "}\n",
       "landmark {\n",
       "  x: 0.69295334815979\n",
       "  y: 0.5920114517211914\n",
       "  z: 0.5012310743331909\n",
       "  visibility: 0.0575983002781868\n",
       "}\n",
       "landmark {\n",
       "  x: 0.39059171080589294\n",
       "  y: 0.6763169169425964\n",
       "  z: -2.0539662837982178\n",
       "  visibility: 0.9873917698860168\n",
       "}\n",
       "landmark {\n",
       "  x: 0.7131479382514954\n",
       "  y: 0.5913223624229431\n",
       "  z: 0.37470799684524536\n",
       "  visibility: 0.058912038803100586\n",
       "}\n",
       "landmark {\n",
       "  x: 0.4498687982559204\n",
       "  y: 0.6786713600158691\n",
       "  z: -2.076791763305664\n",
       "  visibility: 0.9875431060791016\n",
       "}\n",
       "landmark {\n",
       "  x: 0.6964030265808105\n",
       "  y: 0.5733017325401306\n",
       "  z: 0.4302828013896942\n",
       "  visibility: 0.05502055957913399\n",
       "}\n",
       "landmark {\n",
       "  x: 0.46072131395339966\n",
       "  y: 0.6631108522415161\n",
       "  z: -1.8496531248092651\n",
       "  visibility: 0.9863318204879761\n",
       "}\n",
       "landmark {\n",
       "  x: 0.6180761456489563\n",
       "  y: 0.5598514080047607\n",
       "  z: 0.5216780304908752\n",
       "  visibility: 0.9980248212814331\n",
       "}\n",
       "landmark {\n",
       "  x: 0.5338945984840393\n",
       "  y: 0.5721837878227234\n",
       "  z: -0.5221443772315979\n",
       "  visibility: 0.9992396831512451\n",
       "}\n",
       "landmark {\n",
       "  x: 0.54899001121521\n",
       "  y: 0.7233359217643738\n",
       "  z: 1.3386204242706299\n",
       "  visibility: 0.8910959362983704\n",
       "}\n",
       "landmark {\n",
       "  x: 0.5256226062774658\n",
       "  y: 0.7540062665939331\n",
       "  z: 0.1993173062801361\n",
       "  visibility: 0.9933401942253113\n",
       "}\n",
       "landmark {\n",
       "  x: 0.38268357515335083\n",
       "  y: 0.8649304509162903\n",
       "  z: 2.1831605434417725\n",
       "  visibility: 0.9191758036613464\n",
       "}\n",
       "landmark {\n",
       "  x: 0.41816475987434387\n",
       "  y: 0.9073894023895264\n",
       "  z: 0.9330028891563416\n",
       "  visibility: 0.979005753993988\n",
       "}\n",
       "landmark {\n",
       "  x: 0.27715781331062317\n",
       "  y: 0.8927910923957825\n",
       "  z: 2.2414071559906006\n",
       "  visibility: 0.9250001311302185\n",
       "}\n",
       "landmark {\n",
       "  x: 0.31432223320007324\n",
       "  y: 0.9330168962478638\n",
       "  z: 0.9780457019805908\n",
       "  visibility: 0.9633364677429199\n",
       "}\n",
       "landmark {\n",
       "  x: 0.6091650128364563\n",
       "  y: 0.9102824926376343\n",
       "  z: 2.0978188514709473\n",
       "  visibility: 0.9412825107574463\n",
       "}\n",
       "landmark {\n",
       "  x: 0.6691716909408569\n",
       "  y: 0.9670502543449402\n",
       "  z: 0.5633490085601807\n",
       "  visibility: 0.9728566408157349\n",
       "}"
      ]
     },
     "execution_count": 48,
     "metadata": {},
     "output_type": "execute_result"
    }
   ],
   "source": [
    "results.pose_landmarks"
   ]
  },
  {
   "cell_type": "code",
   "execution_count": 49,
   "id": "e0189916-dafe-41f2-a99c-ffa5542dd2d2",
   "metadata": {},
   "outputs": [
    {
     "data": {
      "text/plain": [
       "True"
      ]
     },
     "execution_count": 49,
     "metadata": {},
     "output_type": "execute_result"
    }
   ],
   "source": [
    "bool(results.pose_landmarks)"
   ]
  },
  {
   "cell_type": "code",
   "execution_count": 50,
   "id": "823ad5b4-cefb-4e71-9bf6-501aa5958cf9",
   "metadata": {},
   "outputs": [
    {
     "data": {
      "text/plain": [
       "True"
      ]
     },
     "execution_count": 50,
     "metadata": {},
     "output_type": "execute_result"
    }
   ],
   "source": [
    "ret"
   ]
  },
  {
   "cell_type": "code",
   "execution_count": 51,
   "id": "601956de-3239-472a-a865-73a21fba4e0b",
   "metadata": {},
   "outputs": [
    {
     "data": {
      "text/plain": [
       "[]"
      ]
     },
     "execution_count": 51,
     "metadata": {},
     "output_type": "execute_result"
    }
   ],
   "source": [
    "xy_list_list_flip"
   ]
  },
  {
   "cell_type": "code",
   "execution_count": 52,
   "id": "fdf11821-ef4f-455e-b1ad-621dd0d7df2d",
   "metadata": {},
   "outputs": [
    {
     "data": {
      "text/plain": [
       "[]"
      ]
     },
     "execution_count": 52,
     "metadata": {},
     "output_type": "execute_result"
    }
   ],
   "source": [
    "xy_list_list"
   ]
  },
  {
   "cell_type": "code",
   "execution_count": 53,
   "id": "807c197b-e815-46b0-8b62-cdb081781205",
   "metadata": {},
   "outputs": [],
   "source": [
    "idx = 0"
   ]
  },
  {
   "cell_type": "code",
   "execution_count": 54,
   "id": "241fd0ef-3cb0-4803-a67a-426b5be6e7ea",
   "metadata": {},
   "outputs": [],
   "source": [
    "draw_line_dic = {}"
   ]
  },
  {
   "cell_type": "code",
   "execution_count": 55,
   "id": "c55f290b-46e6-4a47-bcbb-f7018230f552",
   "metadata": {},
   "outputs": [],
   "source": [
    "xy_list, xy_list_flip = [], []"
   ]
  },
  {
   "cell_type": "code",
   "execution_count": 56,
   "id": "1928e4e4-1f46-452d-b60a-0979fa833ebc",
   "metadata": {},
   "outputs": [
    {
     "data": {
      "text/plain": [
       "33"
      ]
     },
     "execution_count": 56,
     "metadata": {},
     "output_type": "execute_result"
    }
   ],
   "source": [
    "len(results.pose_landmarks.landmark)"
   ]
  },
  {
   "cell_type": "code",
   "execution_count": 57,
   "id": "189388e6-ffec-40c1-80ed-716b54c2589d",
   "metadata": {},
   "outputs": [
    {
     "data": {
      "text/plain": [
       "x: 0.7647152543067932\n",
       "y: 0.15660327672958374\n",
       "z: -1.738620400428772\n",
       "visibility: 0.9999854564666748"
      ]
     },
     "execution_count": 57,
     "metadata": {},
     "output_type": "execute_result"
    }
   ],
   "source": [
    "results.pose_landmarks.landmark[0]"
   ]
  },
  {
   "cell_type": "code",
   "execution_count": 58,
   "id": "dbcc9405-bb41-4f45-a31b-9755ded69b45",
   "metadata": {},
   "outputs": [],
   "source": [
    "#cv2.imshow('img', c_img)"
   ]
  },
  {
   "cell_type": "code",
   "execution_count": 59,
   "id": "8f1354e7-10c7-4e30-b29b-faff2a460f65",
   "metadata": {},
   "outputs": [
    {
     "data": {
      "text/plain": [
       "-1"
      ]
     },
     "execution_count": 59,
     "metadata": {},
     "output_type": "execute_result"
    }
   ],
   "source": [
    "cv2.waitKey(5000)"
   ]
  },
  {
   "cell_type": "code",
   "execution_count": 60,
   "id": "152c29e3-21a3-4bd4-8683-f5195976cd2b",
   "metadata": {},
   "outputs": [],
   "source": [
    "cv2.destroyAllWindows()"
   ]
  },
  {
   "cell_type": "code",
   "execution_count": 61,
   "id": "8285f107-e953-49b5-9c20-24e04ea34910",
   "metadata": {},
   "outputs": [
    {
     "data": {
      "text/plain": [
       "-1"
      ]
     },
     "execution_count": 61,
     "metadata": {},
     "output_type": "execute_result"
    }
   ],
   "source": [
    "cv2.waitKey(1)"
   ]
  },
  {
   "cell_type": "code",
   "execution_count": 62,
   "id": "cb37e4d4-9ccf-49fe-8e03-12ef0c03e23e",
   "metadata": {},
   "outputs": [],
   "source": [
    "def get_skeleton(video_path, attention_dot, draw_line):\n",
    "    frame_length = 30 # LSTM 모델에 넣을 frame 수\n",
    "\n",
    "    xy_list_list, xy_list_list_flip = [], []\n",
    "    cv2.destroyAllWindows()\n",
    "    pose = mp_pose.Pose(static_image_mode = True, model_complexity = 1, \\\n",
    "                        enable_segmentation = False, min_detection_confidence = n_CONFIDENCE)\n",
    "    cap = cv2.VideoCapture(video_path)\n",
    "\n",
    "    if cap.isOpened():\n",
    "\n",
    "        while True:\n",
    "            ret, img = cap.read()\n",
    "\n",
    "            if ret == True:\n",
    "\n",
    "                \"\"\" Yolo 바운딩 박스 및 좌표 추출\"\"\"\n",
    "                img = cv2.resize(img, (640, 640))\n",
    "                res = yolo_model(img)\n",
    "                res_refine = res.pandas().xyxy[0].values\n",
    "                nms_human = len(res_refine)\n",
    "                if nms_human > 0:\n",
    "                    for bbox in res_refine:\n",
    "                        \"\"\"바운딩 박스 상하좌우 크기 조절\"\"\"\n",
    "                        xx1, yy1, xx2, yy2 = int(bbox[0])-10, int(bbox[1]), int(bbox[2])+10, int(bbox[3])\n",
    "                        if xx1 < 0:\n",
    "                            xx1 = 0\n",
    "                        elif xx2 > 639:\n",
    "                            xx2 = 639\n",
    "                        if yy1 < 0:\n",
    "                            yy1 = 0\n",
    "                        elif yy2 > 639:\n",
    "                            yy2 = 639\n",
    "\n",
    "                        start_point = (xx1, yy1)\n",
    "                        end_point = (xx2, yy2)\n",
    "\n",
    "                        \"\"\" Yolov5 바운딩 박스 좌표 안에서 mediapipe Pose 추출\"\"\"\n",
    "                        if bbox[4] > y_CONFIDENCE: # bbox[4] : confidence 데이터\n",
    "                            # img = cv2.rectangle(img, start_point, end_point, (0, 0, 255), 2) # 바운딩 박스 그리기 : 데이터 추출 확인용\n",
    "                            c_img = img[yy1:yy2, xx1:xx2] # 바운딩 박스 좌표\n",
    "                            results = pose.process(cv2.cvtColor(c_img, cv2.COLOR_BGR2RGB)) # Yolov5 바운딩 박스 좌표 안에서 'mp_pose' 좌표\n",
    "\n",
    "                            if not results.pose_landmarks: continue\n",
    "                            idx = 0\n",
    "                            draw_line_dic = {}\n",
    "                            xy_list, xy_list_flip = [], []\n",
    "                            # 33 반복문 진행 : 33개 중 18개의 dot\n",
    "                            for x_and_y in results.pose_landmarks.landmark:\n",
    "                                if idx in attention_dot:\n",
    "                                    xy_list.append(x_and_y.x)\n",
    "                                    xy_list.append(x_and_y.y)\n",
    "                                    xy_list_flip.append(1 - x_and_y.x)\n",
    "                                    xy_list_flip.append(x_and_y.y)\n",
    "\n",
    "                                    x, y = int(x_and_y.x*(xx2-xx1)), int(x_and_y.y*(yy2-yy1))\n",
    "                                    draw_line_dic[idx] = [x, y]\n",
    "                                idx += 1\n",
    "\n",
    "                            if len(xy_list) != len(attention_dot) * 2:\n",
    "                                print('Error : attention_dot 데이터 오류')\n",
    "\n",
    "                            xy_list_list.append(xy_list)\n",
    "                            xy_list_list_flip.append(xy_list_flip)\n",
    "\n",
    "                            \"\"\"mediapipe line 그리기 부분 : 데이터 추출(dot) 확인용\"\"\"\n",
    "                            # for line in draw_line:\n",
    "                            #     x1, y1 = draw_line_dic[line[0]][0], draw_line_dic[line[0]][1]\n",
    "                            #     x2, y2 = draw_line_dic[line[1]][0], draw_line_dic[line[1]][1]\n",
    "                            #     c_img = cv2.line(c_img, (x1, y1), (x2, y2), (0, 255, 0), 4)\n",
    "                            # # cv2.imshow('Landmark Image', img)\n",
    "                            # cv2_imshow(img)\n",
    "                            # cv2.waitKey(1)\n",
    "\n",
    "            elif ret == False: break\n",
    "\n",
    "\n",
    "        # 부족한 프레임 수 맞추기\n",
    "        if len(xy_list_list_flip) < 15:\n",
    "            return False, False\n",
    "        elif len(xy_list_list_flip) < frame_length:\n",
    "            f_ln = frame_length - len(xy_list_list_flip)\n",
    "            for _ in range(f_ln):\n",
    "                xy_list_list.append(xy_list_list[-1])\n",
    "                xy_list_list_flip.append(xy_list_list_flip[-1])\n",
    "\n",
    "    cap.release()\n",
    "    cv2.destroyAllWindows()\n",
    "\n",
    "\n",
    "    return xy_list_list, xy_list_list_flip"
   ]
  },
  {
   "cell_type": "code",
   "execution_count": 84,
   "id": "6ed352d8-bd95-41c6-ae7a-5889575d2fd7",
   "metadata": {},
   "outputs": [
    {
     "name": "stderr",
     "output_type": "stream",
     "text": [
      "I0000 00:00:1713772963.105791 1211075 gl_context.cc:357] GL version: 2.1 (2.1 Metal - 88), renderer: Apple M2\n",
      "I0000 00:00:1713772966.575101 1211075 gl_context.cc:357] GL version: 2.1 (2.1 Metal - 88), renderer: Apple M2\n",
      "I0000 00:00:1713772970.100734 1211075 gl_context.cc:357] GL version: 2.1 (2.1 Metal - 88), renderer: Apple M2\n",
      "I0000 00:00:1713772973.624299 1211075 gl_context.cc:357] GL version: 2.1 (2.1 Metal - 88), renderer: Apple M2\n",
      "I0000 00:00:1713772977.832882 1211075 gl_context.cc:357] GL version: 2.1 (2.1 Metal - 88), renderer: Apple M2\n",
      "I0000 00:00:1713772981.550991 1211075 gl_context.cc:357] GL version: 2.1 (2.1 Metal - 88), renderer: Apple M2\n",
      "I0000 00:00:1713772985.345221 1211075 gl_context.cc:357] GL version: 2.1 (2.1 Metal - 88), renderer: Apple M2\n",
      "I0000 00:00:1713772988.862360 1211075 gl_context.cc:357] GL version: 2.1 (2.1 Metal - 88), renderer: Apple M2\n",
      "Context leak detected, msgtracer returned -1\n",
      "I0000 00:00:1713772992.346504 1211075 gl_context.cc:357] GL version: 2.1 (2.1 Metal - 88), renderer: Apple M2\n",
      "I0000 00:00:1713772995.322145 1211075 gl_context.cc:357] GL version: 2.1 (2.1 Metal - 88), renderer: Apple M2\n",
      "I0000 00:00:1713772998.775278 1211075 gl_context.cc:357] GL version: 2.1 (2.1 Metal - 88), renderer: Apple M2\n",
      "I0000 00:00:1713773002.403472 1211075 gl_context.cc:357] GL version: 2.1 (2.1 Metal - 88), renderer: Apple M2\n",
      "I0000 00:00:1713773005.762569 1211075 gl_context.cc:357] GL version: 2.1 (2.1 Metal - 88), renderer: Apple M2\n",
      "I0000 00:00:1713773008.671131 1211075 gl_context.cc:357] GL version: 2.1 (2.1 Metal - 88), renderer: Apple M2\n",
      "I0000 00:00:1713773012.160390 1211075 gl_context.cc:357] GL version: 2.1 (2.1 Metal - 88), renderer: Apple M2\n",
      "I0000 00:00:1713773014.987417 1211075 gl_context.cc:357] GL version: 2.1 (2.1 Metal - 88), renderer: Apple M2\n",
      "I0000 00:00:1713773018.027563 1211075 gl_context.cc:357] GL version: 2.1 (2.1 Metal - 88), renderer: Apple M2\n",
      "I0000 00:00:1713773021.907525 1211075 gl_context.cc:357] GL version: 2.1 (2.1 Metal - 88), renderer: Apple M2\n",
      "I0000 00:00:1713773025.667248 1211075 gl_context.cc:357] GL version: 2.1 (2.1 Metal - 88), renderer: Apple M2\n",
      "I0000 00:00:1713773029.365980 1211075 gl_context.cc:357] GL version: 2.1 (2.1 Metal - 88), renderer: Apple M2\n"
     ]
    }
   ],
   "source": [
    "# 영상 데이터에서 mp pose landmark dot 데이터 추출 부분\n",
    "raw_data = []\n",
    "\n",
    "for fold in os.listdir(video_path):\n",
    "    for video_name in os.listdir(video_path + '/' + fold):\n",
    "        if int(video_name.split('_')[2][:2]) >= 30: # video name 참조\n",
    "            if video_name.split('_')[1] == 'normal': label = 0\n",
    "            else: label = 1\n",
    "            skel_data_n, skel_data_f = get_skeleton('{}/{}'.format(video_path + '/' + fold, video_name), attention_dot, draw_line)\n",
    "            if skel_data_n != False:\n",
    "\n",
    "                seq_list_n = skel_data_n[:30]\n",
    "                seq_list_f = skel_data_f[:30]\n",
    "                raw_data.append({'key':label, 'value':seq_list_n})\n",
    "                raw_data.append({'key':label, 'value':seq_list_f})\n",
    "random.shuffle(raw_data)"
   ]
  },
  {
   "cell_type": "code",
   "execution_count": 79,
   "id": "5f854e49-30d5-44c6-b1fd-cd4651ca44d5",
   "metadata": {},
   "outputs": [
    {
     "data": {
      "text/plain": [
       "30"
      ]
     },
     "execution_count": 79,
     "metadata": {},
     "output_type": "execute_result"
    }
   ],
   "source": [
    "len(raw_data)"
   ]
  },
  {
   "cell_type": "code",
   "execution_count": 85,
   "id": "154c2cee-ab7e-4a37-9eb7-fa8807e088df",
   "metadata": {},
   "outputs": [
    {
     "data": {
      "text/plain": [
       "[[0.7680401802062988,\n",
       "  0.266559898853302,\n",
       "  0.28077077865600586,\n",
       "  0.2654447555541992,\n",
       "  0.807593047618866,\n",
       "  0.42858704924583435,\n",
       "  0.18394699692726135,\n",
       "  0.43980464339256287,\n",
       "  0.7671583890914917,\n",
       "  0.5652652382850647,\n",
       "  0.1661100685596466,\n",
       "  0.5884326100349426,\n",
       "  0.771583080291748,\n",
       "  0.6041407585144043,\n",
       "  0.13859006762504578,\n",
       "  0.6324483156204224,\n",
       "  0.7429617643356323,\n",
       "  0.6064115762710571,\n",
       "  0.17934122681617737,\n",
       "  0.6317155361175537,\n",
       "  0.7287959456443787,\n",
       "  0.5947543978691101,\n",
       "  0.20339563488960266,\n",
       "  0.6184134483337402,\n",
       "  0.6092131733894348,\n",
       "  0.5415561199188232,\n",
       "  0.3394407331943512,\n",
       "  0.5381936430931091,\n",
       "  0.597990870475769,\n",
       "  0.7580123543739319,\n",
       "  0.3373066782951355,\n",
       "  0.7567845582962036,\n",
       "  0.5374031066894531,\n",
       "  0.9171151518821716,\n",
       "  0.38127923011779785,\n",
       "  0.9137616157531738],\n",
       " [0.8158023953437805,\n",
       "  0.2537412941455841,\n",
       "  0.3025131821632385,\n",
       "  0.2524203956127167,\n",
       "  0.8160037994384766,\n",
       "  0.40624114871025085,\n",
       "  0.19701522588729858,\n",
       "  0.4119282364845276,\n",
       "  0.7645604014396667,\n",
       "  0.5278775691986084,\n",
       "  0.16125495731830597,\n",
       "  0.5565330386161804,\n",
       "  0.7666918039321899,\n",
       "  0.5633993148803711,\n",
       "  0.1289443075656891,\n",
       "  0.5984537601470947,\n",
       "  0.7380611896514893,\n",
       "  0.5637136697769165,\n",
       "  0.17909541726112366,\n",
       "  0.598751962184906,\n",
       "  0.7178542613983154,\n",
       "  0.5516183376312256,\n",
       "  0.2066066563129425,\n",
       "  0.586291491985321,\n",
       "  0.6146160364151001,\n",
       "  0.5140151381492615,\n",
       "  0.35515737533569336,\n",
       "  0.5080631375312805,\n",
       "  0.5213411450386047,\n",
       "  0.7108579277992249,\n",
       "  0.3116072118282318,\n",
       "  0.6913132071495056,\n",
       "  0.47033700346946716,\n",
       "  0.8920228481292725,\n",
       "  0.34048834443092346,\n",
       "  0.8016413450241089],\n",
       " [0.7812072038650513,\n",
       "  0.2851352095603943,\n",
       "  0.3085919916629791,\n",
       "  0.25768718123435974,\n",
       "  0.8158129453659058,\n",
       "  0.45801132917404175,\n",
       "  0.20309919118881226,\n",
       "  0.42208331823349,\n",
       "  0.7717633247375488,\n",
       "  0.6026472449302673,\n",
       "  0.1422082781791687,\n",
       "  0.5733802318572998,\n",
       "  0.7905478477478027,\n",
       "  0.6442381143569946,\n",
       "  0.10038620233535767,\n",
       "  0.6130136251449585,\n",
       "  0.7438366413116455,\n",
       "  0.6440614461898804,\n",
       "  0.1308775544166565,\n",
       "  0.613348662853241,\n",
       "  0.722034215927124,\n",
       "  0.6307656168937683,\n",
       "  0.15850701928138733,\n",
       "  0.6020392775535583,\n",
       "  0.5455414652824402,\n",
       "  0.5519019365310669,\n",
       "  0.2968732714653015,\n",
       "  0.5401665568351746,\n",
       "  0.4915354549884796,\n",
       "  0.7509709000587463,\n",
       "  0.24402877688407898,\n",
       "  0.725590705871582,\n",
       "  0.4118766784667969,\n",
       "  0.9015849828720093,\n",
       "  0.3000200390815735,\n",
       "  0.8254206776618958],\n",
       " [0.7741567492485046,\n",
       "  0.292413592338562,\n",
       "  0.3997749388217926,\n",
       "  0.26332104206085205,\n",
       "  0.8107882738113403,\n",
       "  0.4711056351661682,\n",
       "  0.32601770758628845,\n",
       "  0.41161447763442993,\n",
       "  0.696736216545105,\n",
       "  0.6390376091003418,\n",
       "  0.20339493453502655,\n",
       "  0.5335667729377747,\n",
       "  0.7021046876907349,\n",
       "  0.6891623139381409,\n",
       "  0.16845479607582092,\n",
       "  0.5741708874702454,\n",
       "  0.6409203410148621,\n",
       "  0.6858058571815491,\n",
       "  0.17745164036750793,\n",
       "  0.5763556957244873,\n",
       "  0.6231465935707092,\n",
       "  0.669526219367981,\n",
       "  0.20109038054943085,\n",
       "  0.5648788809776306,\n",
       "  0.5524610280990601,\n",
       "  0.5720685720443726,\n",
       "  0.34935641288757324,\n",
       "  0.5534772276878357,\n",
       "  0.468180775642395,\n",
       "  0.7417554259300232,\n",
       "  0.2516688406467438,\n",
       "  0.7342103123664856,\n",
       "  0.41705718636512756,\n",
       "  0.8866034746170044,\n",
       "  0.18719613552093506,\n",
       "  0.8905887007713318],\n",
       " [0.6945956945419312,\n",
       "  0.27862784266471863,\n",
       "  0.5193804502487183,\n",
       "  0.27435237169265747,\n",
       "  0.6650509238243103,\n",
       "  0.47732582688331604,\n",
       "  0.4725545048713684,\n",
       "  0.42736947536468506,\n",
       "  0.4649195969104767,\n",
       "  0.6245893239974976,\n",
       "  0.3321113586425781,\n",
       "  0.5402866005897522,\n",
       "  0.4242691993713379,\n",
       "  0.6628892421722412,\n",
       "  0.30112695693969727,\n",
       "  0.5660918951034546,\n",
       "  0.35223671793937683,\n",
       "  0.6586177349090576,\n",
       "  0.3038731813430786,\n",
       "  0.5653243064880371,\n",
       "  0.3613697290420532,\n",
       "  0.6435671448707581,\n",
       "  0.3164699971675873,\n",
       "  0.562736988067627,\n",
       "  0.5472316145896912,\n",
       "  0.56219482421875,\n",
       "  0.4488041400909424,\n",
       "  0.5570785999298096,\n",
       "  0.4213915765285492,\n",
       "  0.755244255065918,\n",
       "  0.5654510259628296,\n",
       "  0.715446949005127,\n",
       "  0.37808242440223694,\n",
       "  0.9176759719848633,\n",
       "  0.6488707661628723,\n",
       "  0.8579579591751099],\n",
       " [0.3380393087863922,\n",
       "  0.13717693090438843,\n",
       "  0.6296034455299377,\n",
       "  0.14866499602794647,\n",
       "  0.412588506937027,\n",
       "  0.19480367004871368,\n",
       "  0.600391685962677,\n",
       "  0.19311384856700897,\n",
       "  0.3843148350715637,\n",
       "  0.14531569182872772,\n",
       "  0.4752260148525238,\n",
       "  0.13515520095825195,\n",
       "  0.36712974309921265,\n",
       "  0.13888289034366608,\n",
       "  0.48242056369781494,\n",
       "  0.12688276171684265,\n",
       "  0.4091266393661499,\n",
       "  0.13064217567443848,\n",
       "  0.44984757900238037,\n",
       "  0.11698882281780243,\n",
       "  0.4148178994655609,\n",
       "  0.1381450742483139,\n",
       "  0.45774996280670166,\n",
       "  0.12647511065006256,\n",
       "  0.5076927542686462,\n",
       "  0.3146228492259979,\n",
       "  0.6882193088531494,\n",
       "  0.3207162618637085,\n",
       "  0.4760230779647827,\n",
       "  0.4798763394355774,\n",
       "  0.6406107544898987,\n",
       "  0.4778739809989929,\n",
       "  0.3820922374725342,\n",
       "  0.6355395913124084,\n",
       "  0.4619969427585602,\n",
       "  0.6318635940551758],\n",
       " [0.6699314713478088,\n",
       "  0.20844724774360657,\n",
       "  0.5898275971412659,\n",
       "  0.21887944638729095,\n",
       "  0.4287300109863281,\n",
       "  0.25082236528396606,\n",
       "  0.5506142973899841,\n",
       "  0.2704451084136963,\n",
       "  0.39093974232673645,\n",
       "  0.19086043536663055,\n",
       "  0.4957185685634613,\n",
       "  0.2338360846042633,\n",
       "  0.39276397228240967,\n",
       "  0.173609659075737,\n",
       "  0.4919765889644623,\n",
       "  0.22638922929763794,\n",
       "  0.4363296329975128,\n",
       "  0.16916771233081818,\n",
       "  0.4815104603767395,\n",
       "  0.21732214093208313,\n",
       "  0.42661556601524353,\n",
       "  0.1759527027606964,\n",
       "  0.48302334547042847,\n",
       "  0.21918465197086334,\n",
       "  0.7192131876945496,\n",
       "  0.3776538670063019,\n",
       "  0.59233158826828,\n",
       "  0.38276249170303345,\n",
       "  0.6678107380867004,\n",
       "  0.5084073543548584,\n",
       "  0.496056467294693,\n",
       "  0.5139731168746948,\n",
       "  0.5784622430801392,\n",
       "  0.6695041060447693,\n",
       "  0.48835015296936035,\n",
       "  0.6509705781936646],\n",
       " [0.2665027976036072,\n",
       "  0.26249030232429504,\n",
       "  0.5208173990249634,\n",
       "  0.23356613516807556,\n",
       "  0.21697887778282166,\n",
       "  0.45410120487213135,\n",
       "  0.4520204961299896,\n",
       "  0.28468942642211914,\n",
       "  0.23391397297382355,\n",
       "  0.5868183970451355,\n",
       "  0.2984897196292877,\n",
       "  0.21571855247020721,\n",
       "  0.28890034556388855,\n",
       "  0.6195424795150757,\n",
       "  0.2967737913131714,\n",
       "  0.19922849535942078,\n",
       "  0.25937995314598083,\n",
       "  0.6231001615524292,\n",
       "  0.23586302995681763,\n",
       "  0.1890207827091217,\n",
       "  0.24275624752044678,\n",
       "  0.6094110012054443,\n",
       "  0.22748726606369019,\n",
       "  0.1968410313129425,\n",
       "  0.39077243208885193,\n",
       "  0.49802592396736145,\n",
       "  0.5543128252029419,\n",
       "  0.4955565333366394,\n",
       "  0.3204149007797241,\n",
       "  0.7158626317977905,\n",
       "  0.48625487089157104,\n",
       "  0.6901469230651855,\n",
       "  0.3305152356624603,\n",
       "  0.9362502098083496,\n",
       "  0.7624286413192749,\n",
       "  0.8666163086891174],\n",
       " [0.4486302435398102,\n",
       "  0.30156370997428894,\n",
       "  0.7366888523101807,\n",
       "  0.2720450758934021,\n",
       "  0.33277857303619385,\n",
       "  0.49460551142692566,\n",
       "  0.758213996887207,\n",
       "  0.30428141355514526,\n",
       "  0.22006258368492126,\n",
       "  0.6445039510726929,\n",
       "  0.4610558748245239,\n",
       "  0.27696049213409424,\n",
       "  0.20249268412590027,\n",
       "  0.6749860048294067,\n",
       "  0.43518704175949097,\n",
       "  0.2704739272594452,\n",
       "  0.1874968707561493,\n",
       "  0.6808458566665649,\n",
       "  0.34299957752227783,\n",
       "  0.2667219936847687,\n",
       "  0.20549330115318298,\n",
       "  0.6677444577217102,\n",
       "  0.33062949776649475,\n",
       "  0.27425384521484375,\n",
       "  0.5436584949493408,\n",
       "  0.5515842437744141,\n",
       "  0.8554699420928955,\n",
       "  0.5375816226005554,\n",
       "  0.6171494126319885,\n",
       "  0.7182532548904419,\n",
       "  0.7599239349365234,\n",
       "  0.6938048601150513,\n",
       "  0.6911372542381287,\n",
       "  0.9165921211242676,\n",
       "  0.7619608044624329,\n",
       "  0.8787112832069397],\n",
       " [0.35018908977508545,\n",
       "  0.2620558738708496,\n",
       "  0.6695452332496643,\n",
       "  0.2509777843952179,\n",
       "  0.3390578329563141,\n",
       "  0.44715264439582825,\n",
       "  0.6520504951477051,\n",
       "  0.4167102575302124,\n",
       "  0.3219098448753357,\n",
       "  0.5759437084197998,\n",
       "  0.3811075687408447,\n",
       "  0.5206124782562256,\n",
       "  0.3031345307826996,\n",
       "  0.6096101999282837,\n",
       "  0.3539143204689026,\n",
       "  0.5450111031532288,\n",
       "  0.31524667143821716,\n",
       "  0.6073341965675354,\n",
       "  0.3035336434841156,\n",
       "  0.5421076416969299,\n",
       "  0.33103305101394653,\n",
       "  0.5994770526885986,\n",
       "  0.3078668415546417,\n",
       "  0.5360345840454102,\n",
       "  0.5413886904716492,\n",
       "  0.550881564617157,\n",
       "  0.5919932723045349,\n",
       "  0.5354450345039368,\n",
       "  0.557243287563324,\n",
       "  0.736554741859436,\n",
       "  0.5439697504043579,\n",
       "  0.6932162046432495,\n",
       "  0.6684061288833618,\n",
       "  0.9287973642349243,\n",
       "  0.6574516296386719,\n",
       "  0.8621407747268677],\n",
       " [0.5588347911834717,\n",
       "  0.23361754417419434,\n",
       "  0.5174789428710938,\n",
       "  0.2296275794506073,\n",
       "  0.5196998715400696,\n",
       "  0.416748970746994,\n",
       "  0.4935685098171234,\n",
       "  0.38398680090904236,\n",
       "  0.41210538148880005,\n",
       "  0.559848427772522,\n",
       "  0.3325350880622864,\n",
       "  0.4977756142616272,\n",
       "  0.40653204917907715,\n",
       "  0.5985141396522522,\n",
       "  0.2983419895172119,\n",
       "  0.5439947247505188,\n",
       "  0.3630286157131195,\n",
       "  0.5998349189758301,\n",
       "  0.2923019826412201,\n",
       "  0.5434831976890564,\n",
       "  0.3682901859283447,\n",
       "  0.5852095484733582,\n",
       "  0.3143236041069031,\n",
       "  0.5364943742752075,\n",
       "  0.5810938477516174,\n",
       "  0.5272135138511658,\n",
       "  0.5308799147605896,\n",
       "  0.5162278413772583,\n",
       "  0.5873574018478394,\n",
       "  0.7268444299697876,\n",
       "  0.5757741928100586,\n",
       "  0.6710315942764282,\n",
       "  0.6878281235694885,\n",
       "  0.8963910341262817,\n",
       "  0.6099614500999451,\n",
       "  0.8045373558998108],\n",
       " [0.6518795490264893,\n",
       "  0.2649597227573395,\n",
       "  0.3149736523628235,\n",
       "  0.25704535841941833,\n",
       "  0.6838439702987671,\n",
       "  0.46026545763015747,\n",
       "  0.37003621459007263,\n",
       "  0.4002067446708679,\n",
       "  0.6251257061958313,\n",
       "  0.6121053695678711,\n",
       "  0.2685389220714569,\n",
       "  0.5140795111656189,\n",
       "  0.6162093877792358,\n",
       "  0.6562681794166565,\n",
       "  0.26824435591697693,\n",
       "  0.5565991997718811,\n",
       "  0.5501337647438049,\n",
       "  0.6536955833435059,\n",
       "  0.2733548581600189,\n",
       "  0.5634462237358093,\n",
       "  0.5540125966072083,\n",
       "  0.6369551420211792,\n",
       "  0.2862113118171692,\n",
       "  0.549423098564148,\n",
       "  0.6307260990142822,\n",
       "  0.5498464107513428,\n",
       "  0.4346398413181305,\n",
       "  0.5440859198570251,\n",
       "  0.6500740051269531,\n",
       "  0.7250604629516602,\n",
       "  0.5078548192977905,\n",
       "  0.7116572856903076,\n",
       "  0.7678266763687134,\n",
       "  0.8997024893760681,\n",
       "  0.5879257917404175,\n",
       "  0.8586777448654175],\n",
       " [0.7789214849472046,\n",
       "  0.2762252390384674,\n",
       "  0.27054113149642944,\n",
       "  0.24279487133026123,\n",
       "  0.7765761017799377,\n",
       "  0.46691766381263733,\n",
       "  0.1935967206954956,\n",
       "  0.4127421975135803,\n",
       "  0.8046643733978271,\n",
       "  0.6261450052261353,\n",
       "  0.13046473264694214,\n",
       "  0.5489659309387207,\n",
       "  0.8489776849746704,\n",
       "  0.6708164811134338,\n",
       "  0.07039821147918701,\n",
       "  0.5945709347724915,\n",
       "  0.7933562397956848,\n",
       "  0.6728850603103638,\n",
       "  0.07792326807975769,\n",
       "  0.5990551710128784,\n",
       "  0.7643722295761108,\n",
       "  0.6579006314277649,\n",
       "  0.12320277094841003,\n",
       "  0.5842723250389099,\n",
       "  0.5949947834014893,\n",
       "  0.5462000966072083,\n",
       "  0.3570001721382141,\n",
       "  0.5366519689559937,\n",
       "  0.5821112394332886,\n",
       "  0.7289282083511353,\n",
       "  0.41169777512550354,\n",
       "  0.7297487854957581,\n",
       "  0.6537060737609863,\n",
       "  0.8841747045516968,\n",
       "  0.45830830931663513,\n",
       "  0.8888548612594604],\n",
       " [0.7585055232048035,\n",
       "  0.27456173300743103,\n",
       "  0.2096269428730011,\n",
       "  0.25209030508995056,\n",
       "  0.7809048891067505,\n",
       "  0.442697137594223,\n",
       "  0.1762390434741974,\n",
       "  0.4370671510696411,\n",
       "  0.7977803349494934,\n",
       "  0.5936256647109985,\n",
       "  0.20934739708900452,\n",
       "  0.5972703695297241,\n",
       "  0.8192126750946045,\n",
       "  0.6359298825263977,\n",
       "  0.1767171323299408,\n",
       "  0.6423944234848022,\n",
       "  0.7847663164138794,\n",
       "  0.6370941996574402,\n",
       "  0.23519647121429443,\n",
       "  0.644014298915863,\n",
       "  0.7596604228019714,\n",
       "  0.6236575841903687,\n",
       "  0.2649933397769928,\n",
       "  0.6306328773498535,\n",
       "  0.5929666757583618,\n",
       "  0.5585593581199646,\n",
       "  0.3127129077911377,\n",
       "  0.5475295186042786,\n",
       "  0.5811824798583984,\n",
       "  0.7477700114250183,\n",
       "  0.27584508061408997,\n",
       "  0.7514702677726746,\n",
       "  0.5149917602539062,\n",
       "  0.889015793800354,\n",
       "  0.29962557554244995,\n",
       "  0.9086628556251526],\n",
       " [0.6548861861228943,\n",
       "  0.25683343410491943,\n",
       "  0.30248475074768066,\n",
       "  0.26239970326423645,\n",
       "  0.7292646169662476,\n",
       "  0.4086361527442932,\n",
       "  0.20403677225112915,\n",
       "  0.43161359429359436,\n",
       "  0.8218487501144409,\n",
       "  0.5356032848358154,\n",
       "  0.2074889838695526,\n",
       "  0.5825932025909424,\n",
       "  0.8397307395935059,\n",
       "  0.5729566812515259,\n",
       "  0.1754852831363678,\n",
       "  0.6270184516906738,\n",
       "  0.8377935290336609,\n",
       "  0.5768933296203613,\n",
       "  0.22177726030349731,\n",
       "  0.6290998458862305,\n",
       "  0.8127568960189819,\n",
       "  0.566167950630188,\n",
       "  0.25846436619758606,\n",
       "  0.6147173047065735,\n",
       "  0.6097919940948486,\n",
       "  0.5319647789001465,\n",
       "  0.42075151205062866,\n",
       "  0.5400404334068298,\n",
       "  0.6039748191833496,\n",
       "  0.7088767886161804,\n",
       "  0.4849897027015686,\n",
       "  0.7560595273971558,\n",
       "  0.49674829840660095,\n",
       "  0.8476971387863159,\n",
       "  0.42851197719573975,\n",
       "  0.9152059555053711],\n",
       " [0.534109890460968,\n",
       "  0.2537909746170044,\n",
       "  0.4380544424057007,\n",
       "  0.26480478048324585,\n",
       "  0.5383833050727844,\n",
       "  0.41336527466773987,\n",
       "  0.29927849769592285,\n",
       "  0.47745949029922485,\n",
       "  0.7628213763237,\n",
       "  0.521912693977356,\n",
       "  0.36761927604675293,\n",
       "  0.6543755531311035,\n",
       "  0.8109671473503113,\n",
       "  0.5483560562133789,\n",
       "  0.33303412795066833,\n",
       "  0.6921874284744263,\n",
       "  0.8341583013534546,\n",
       "  0.5492498874664307,\n",
       "  0.4159187972545624,\n",
       "  0.692812979221344,\n",
       "  0.8043845891952515,\n",
       "  0.5426104068756104,\n",
       "  0.4392404556274414,\n",
       "  0.6801409721374512,\n",
       "  0.5737246870994568,\n",
       "  0.5588588714599609,\n",
       "  0.4582383334636688,\n",
       "  0.555686354637146,\n",
       "  0.6262050271034241,\n",
       "  0.7157427072525024,\n",
       "  0.5408238172531128,\n",
       "  0.7397977709770203,\n",
       "  0.5021795630455017,\n",
       "  0.8630414009094238,\n",
       "  0.47244223952293396,\n",
       "  0.9050565958023071],\n",
       " [0.2798925042152405,\n",
       "  0.2519586980342865,\n",
       "  0.624997615814209,\n",
       "  0.26958298683166504,\n",
       "  0.34167182445526123,\n",
       "  0.3916000425815582,\n",
       "  0.5580189824104309,\n",
       "  0.4733949899673462,\n",
       "  0.5149917602539062,\n",
       "  0.46245276927948,\n",
       "  0.6344647407531738,\n",
       "  0.6753649115562439,\n",
       "  0.5104692578315735,\n",
       "  0.4736493229866028,\n",
       "  0.6427256464958191,\n",
       "  0.7155967950820923,\n",
       "  0.547121524810791,\n",
       "  0.47026723623275757,\n",
       "  0.6729323863983154,\n",
       "  0.7201842665672302,\n",
       "  0.5689185857772827,\n",
       "  0.46869558095932007,\n",
       "  0.6340087652206421,\n",
       "  0.7031997442245483,\n",
       "  0.33796167373657227,\n",
       "  0.5387420654296875,\n",
       "  0.45436984300613403,\n",
       "  0.53635573387146,\n",
       "  0.3715271055698395,\n",
       "  0.7242270708084106,\n",
       "  0.5388152003288269,\n",
       "  0.7259753346443176,\n",
       "  0.3706214427947998,\n",
       "  0.8961589336395264,\n",
       "  0.37889790534973145,\n",
       "  0.8943314552307129],\n",
       " [0.35777610540390015,\n",
       "  0.24827396869659424,\n",
       "  0.5232499837875366,\n",
       "  0.2613392174243927,\n",
       "  0.21368657052516937,\n",
       "  0.4442980885505676,\n",
       "  0.5478894114494324,\n",
       "  0.4839719533920288,\n",
       "  0.45013827085494995,\n",
       "  0.5683929324150085,\n",
       "  0.7181419134140015,\n",
       "  0.6467310190200806,\n",
       "  0.4926777184009552,\n",
       "  0.6011556386947632,\n",
       "  0.731816291809082,\n",
       "  0.6866118907928467,\n",
       "  0.5298283696174622,\n",
       "  0.5995651483535767,\n",
       "  0.7382270097732544,\n",
       "  0.6879779696464539,\n",
       "  0.5181748867034912,\n",
       "  0.5896480083465576,\n",
       "  0.7220110893249512,\n",
       "  0.6743204593658447,\n",
       "  0.38268664479255676,\n",
       "  0.5528502464294434,\n",
       "  0.45084553956985474,\n",
       "  0.5655949115753174,\n",
       "  0.46702417731285095,\n",
       "  0.7085164785385132,\n",
       "  0.4733586609363556,\n",
       "  0.7442710399627686,\n",
       "  0.5201776623725891,\n",
       "  0.859025239944458,\n",
       "  0.2865622639656067,\n",
       "  0.9181079864501953],\n",
       " [0.29692158102989197,\n",
       "  0.24056647717952728,\n",
       "  0.5437568426132202,\n",
       "  0.25464901328086853,\n",
       "  0.3285960257053375,\n",
       "  0.4293518662452698,\n",
       "  0.6173050999641418,\n",
       "  0.4500104784965515,\n",
       "  0.44552043080329895,\n",
       "  0.5674638152122498,\n",
       "  0.7791843414306641,\n",
       "  0.6058103442192078,\n",
       "  0.443757563829422,\n",
       "  0.5892683267593384,\n",
       "  0.7915854454040527,\n",
       "  0.6446583867073059,\n",
       "  0.539639949798584,\n",
       "  0.6016021370887756,\n",
       "  0.7972447276115417,\n",
       "  0.647547721862793,\n",
       "  0.4929693341255188,\n",
       "  0.5898167490959167,\n",
       "  0.7856996059417725,\n",
       "  0.6334816217422485,\n",
       "  0.408380389213562,\n",
       "  0.5372620224952698,\n",
       "  0.534176230430603,\n",
       "  0.548715353012085,\n",
       "  0.520354688167572,\n",
       "  0.7289273142814636,\n",
       "  0.5965635776519775,\n",
       "  0.7637242078781128,\n",
       "  0.40025025606155396,\n",
       "  0.8728449940681458,\n",
       "  0.2906724512577057,\n",
       "  0.9294858574867249],\n",
       " [0.21557378768920898,\n",
       "  0.2556189298629761,\n",
       "  0.6604337096214294,\n",
       "  0.2717820703983307,\n",
       "  0.27356985211372375,\n",
       "  0.449363648891449,\n",
       "  0.6993409395217896,\n",
       "  0.4588719308376312,\n",
       "  0.4472915530204773,\n",
       "  0.5777988433837891,\n",
       "  0.7881994843482971,\n",
       "  0.6172848343849182,\n",
       "  0.47649404406547546,\n",
       "  0.6095132827758789,\n",
       "  0.7994007468223572,\n",
       "  0.6588490605354309,\n",
       "  0.48650237917900085,\n",
       "  0.6075722575187683,\n",
       "  0.7957630157470703,\n",
       "  0.6615362167358398,\n",
       "  0.4882522523403168,\n",
       "  0.5971511006355286,\n",
       "  0.7763494253158569,\n",
       "  0.6461278200149536,\n",
       "  0.3578665256500244,\n",
       "  0.5545644164085388,\n",
       "  0.5103663802146912,\n",
       "  0.5542136430740356,\n",
       "  0.40673625469207764,\n",
       "  0.7595971822738647,\n",
       "  0.5894258618354797,\n",
       "  0.7601079940795898,\n",
       "  0.42783570289611816,\n",
       "  0.9322476387023926,\n",
       "  0.6389346122741699,\n",
       "  0.9191815257072449],\n",
       " [0.26301002502441406,\n",
       "  0.23950675129890442,\n",
       "  0.7782673239707947,\n",
       "  0.2634252905845642,\n",
       "  0.1725846230983734,\n",
       "  0.4045046865940094,\n",
       "  0.7764458060264587,\n",
       "  0.43284931778907776,\n",
       "  0.22442826628684998,\n",
       "  0.5231106281280518,\n",
       "  0.8037294745445251,\n",
       "  0.5728917717933655,\n",
       "  0.21415749192237854,\n",
       "  0.5554187893867493,\n",
       "  0.8079445958137512,\n",
       "  0.611500084400177,\n",
       "  0.24735558032989502,\n",
       "  0.5543693900108337,\n",
       "  0.7911478877067566,\n",
       "  0.6126582026481628,\n",
       "  0.26878756284713745,\n",
       "  0.5452498197555542,\n",
       "  0.7764348983764648,\n",
       "  0.5965599417686462,\n",
       "  0.3492066264152527,\n",
       "  0.5283812284469604,\n",
       "  0.6077302694320679,\n",
       "  0.5324475765228271,\n",
       "  0.32640179991722107,\n",
       "  0.7505166530609131,\n",
       "  0.5671157836914062,\n",
       "  0.7330701947212219,\n",
       "  0.29491889476776123,\n",
       "  0.944610595703125,\n",
       "  0.5581635236740112,\n",
       "  0.9116168022155762],\n",
       " [0.3949406147003174,\n",
       "  0.21573755145072937,\n",
       "  0.8951267004013062,\n",
       "  0.23750396072864532,\n",
       "  0.2554965615272522,\n",
       "  0.3893566429615021,\n",
       "  0.8050473928451538,\n",
       "  0.39522436261177063,\n",
       "  0.19411125779151917,\n",
       "  0.5222631692886353,\n",
       "  0.817226767539978,\n",
       "  0.5199643969535828,\n",
       "  0.17112553119659424,\n",
       "  0.5587910413742065,\n",
       "  0.8197247385978699,\n",
       "  0.5545130968093872,\n",
       "  0.18363109230995178,\n",
       "  0.5604326725006104,\n",
       "  0.7956746816635132,\n",
       "  0.5536836981773376,\n",
       "  0.21319177746772766,\n",
       "  0.5483334064483643,\n",
       "  0.7780183553695679,\n",
       "  0.5427564382553101,\n",
       "  0.4182841181755066,\n",
       "  0.5060895085334778,\n",
       "  0.5886885523796082,\n",
       "  0.5056431889533997,\n",
       "  0.3188033699989319,\n",
       "  0.7197922468185425,\n",
       "  0.5176523327827454,\n",
       "  0.7101325392723083,\n",
       "  0.2689173221588135,\n",
       "  0.9076855182647705,\n",
       "  0.4910602271556854,\n",
       "  0.8821121454238892],\n",
       " [0.45326676964759827,\n",
       "  0.23404967784881592,\n",
       "  0.7923645377159119,\n",
       "  0.24781233072280884,\n",
       "  0.3268199563026428,\n",
       "  0.42032888531684875,\n",
       "  0.802301287651062,\n",
       "  0.4020111560821533,\n",
       "  0.23671527206897736,\n",
       "  0.5682791471481323,\n",
       "  0.5885567665100098,\n",
       "  0.5150502920150757,\n",
       "  0.2077946960926056,\n",
       "  0.6062471270561218,\n",
       "  0.5143535137176514,\n",
       "  0.5450938940048218,\n",
       "  0.20831206440925598,\n",
       "  0.6083273887634277,\n",
       "  0.5225088000297546,\n",
       "  0.5466808080673218,\n",
       "  0.2283869981765747,\n",
       "  0.5965668559074402,\n",
       "  0.5161511898040771,\n",
       "  0.5378512144088745,\n",
       "  0.4269026815891266,\n",
       "  0.5317042469978333,\n",
       "  0.6292048692703247,\n",
       "  0.5265796184539795,\n",
       "  0.3128945827484131,\n",
       "  0.729716420173645,\n",
       "  0.5186346173286438,\n",
       "  0.7264249920845032,\n",
       "  0.28375473618507385,\n",
       "  0.9187425971031189,\n",
       "  0.5073626041412354,\n",
       "  0.9171409010887146],\n",
       " [0.4867897629737854,\n",
       "  0.2657143175601959,\n",
       "  0.6622233390808105,\n",
       "  0.25540444254875183,\n",
       "  0.38121724128723145,\n",
       "  0.47603508830070496,\n",
       "  0.6959282159805298,\n",
       "  0.4280746877193451,\n",
       "  0.30000704526901245,\n",
       "  0.6215564012527466,\n",
       "  0.4650595784187317,\n",
       "  0.5565798282623291,\n",
       "  0.2804555296897888,\n",
       "  0.6545006036758423,\n",
       "  0.4101170301437378,\n",
       "  0.5858583450317383,\n",
       "  0.2681620717048645,\n",
       "  0.6570814847946167,\n",
       "  0.38292011618614197,\n",
       "  0.5890718698501587,\n",
       "  0.2868273854255676,\n",
       "  0.6440525650978088,\n",
       "  0.4053747355937958,\n",
       "  0.5805585980415344,\n",
       "  0.4129543602466583,\n",
       "  0.5603848695755005,\n",
       "  0.6034453511238098,\n",
       "  0.5477950572967529,\n",
       "  0.4027290344238281,\n",
       "  0.7492905855178833,\n",
       "  0.5775514841079712,\n",
       "  0.7235715389251709,\n",
       "  0.3460490107536316,\n",
       "  0.9271261096000671,\n",
       "  0.6784855723381042,\n",
       "  0.9059627056121826],\n",
       " [0.4109494686126709,\n",
       "  0.2606479525566101,\n",
       "  0.6072156429290771,\n",
       "  0.23890158534049988,\n",
       "  0.4320194125175476,\n",
       "  0.4677659571170807,\n",
       "  0.6882495284080505,\n",
       "  0.3334813714027405,\n",
       "  0.3307673931121826,\n",
       "  0.6411033868789673,\n",
       "  0.5724246501922607,\n",
       "  0.3328932523727417,\n",
       "  0.3408055007457733,\n",
       "  0.680756688117981,\n",
       "  0.5933653116226196,\n",
       "  0.33478671312332153,\n",
       "  0.3180113732814789,\n",
       "  0.6849679350852966,\n",
       "  0.5103437900543213,\n",
       "  0.32454198598861694,\n",
       "  0.3309934735298157,\n",
       "  0.6681822538375854,\n",
       "  0.48735564947128296,\n",
       "  0.32688844203948975,\n",
       "  0.5018799304962158,\n",
       "  0.497964471578598,\n",
       "  0.6956033706665039,\n",
       "  0.4844995141029358,\n",
       "  0.437406063079834,\n",
       "  0.7049715518951416,\n",
       "  0.5693861246109009,\n",
       "  0.6739799380302429,\n",
       "  0.45073652267456055,\n",
       "  0.8866730332374573,\n",
       "  0.5295255780220032,\n",
       "  0.8519893884658813],\n",
       " [0.6151512861251831,\n",
       "  0.28122568130493164,\n",
       "  0.6964331865310669,\n",
       "  0.27284544706344604,\n",
       "  0.5247452259063721,\n",
       "  0.478736937046051,\n",
       "  0.6708461046218872,\n",
       "  0.4289361238479614,\n",
       "  0.39891156554222107,\n",
       "  0.6214042901992798,\n",
       "  0.49145129323005676,\n",
       "  0.5304843187332153,\n",
       "  0.36873751878738403,\n",
       "  0.659037709236145,\n",
       "  0.43454596400260925,\n",
       "  0.5468230247497559,\n",
       "  0.3494880497455597,\n",
       "  0.6604369878768921,\n",
       "  0.40998029708862305,\n",
       "  0.5472596883773804,\n",
       "  0.3688817620277405,\n",
       "  0.649316132068634,\n",
       "  0.4313529133796692,\n",
       "  0.5397229790687561,\n",
       "  0.5877439379692078,\n",
       "  0.5689674615859985,\n",
       "  0.6419796347618103,\n",
       "  0.5615512132644653,\n",
       "  0.6093257069587708,\n",
       "  0.7489156723022461,\n",
       "  0.46358612179756165,\n",
       "  0.7327976226806641,\n",
       "  0.7834000587463379,\n",
       "  0.9262882471084595,\n",
       "  0.32851076126098633,\n",
       "  0.8983446359634399],\n",
       " [0.4256168007850647,\n",
       "  0.240273118019104,\n",
       "  0.44105130434036255,\n",
       "  0.24172092974185944,\n",
       "  0.3791428804397583,\n",
       "  0.4450787901878357,\n",
       "  0.40414583683013916,\n",
       "  0.40838032960891724,\n",
       "  0.29228460788726807,\n",
       "  0.5965601205825806,\n",
       "  0.25261205434799194,\n",
       "  0.5054523944854736,\n",
       "  0.22796422243118286,\n",
       "  0.6327790021896362,\n",
       "  0.2098221778869629,\n",
       "  0.5328434109687805,\n",
       "  0.20455271005630493,\n",
       "  0.6417971849441528,\n",
       "  0.18439584970474243,\n",
       "  0.5310785174369812,\n",
       "  0.2616595923900604,\n",
       "  0.6217828989028931,\n",
       "  0.20686699450016022,\n",
       "  0.522363007068634,\n",
       "  0.40383198857307434,\n",
       "  0.539358377456665,\n",
       "  0.41414207220077515,\n",
       "  0.5359698534011841,\n",
       "  0.4625115990638733,\n",
       "  0.7481362223625183,\n",
       "  0.34335190057754517,\n",
       "  0.7250282764434814,\n",
       "  0.7521685361862183,\n",
       "  0.9085716605186462,\n",
       "  0.3458440899848938,\n",
       "  0.9124929308891296],\n",
       " [0.330879807472229,\n",
       "  0.2639857828617096,\n",
       "  0.5315660238265991,\n",
       "  0.25257378816604614,\n",
       "  0.39252886176109314,\n",
       "  0.45377981662750244,\n",
       "  0.5950562357902527,\n",
       "  0.35772785544395447,\n",
       "  0.3051737844944,\n",
       "  0.6054247617721558,\n",
       "  0.32915669679641724,\n",
       "  0.34914711117744446,\n",
       "  0.28212621808052063,\n",
       "  0.64274662733078,\n",
       "  0.31355392932891846,\n",
       "  0.34415313601493835,\n",
       "  0.25897303223609924,\n",
       "  0.6463028192520142,\n",
       "  0.22618477046489716,\n",
       "  0.33583831787109375,\n",
       "  0.2744908332824707,\n",
       "  0.6296600103378296,\n",
       "  0.22385463118553162,\n",
       "  0.34057652950286865,\n",
       "  0.5047216415405273,\n",
       "  0.5572057962417603,\n",
       "  0.6082035899162292,\n",
       "  0.5508602857589722,\n",
       "  0.42214980721473694,\n",
       "  0.7538612484931946,\n",
       "  0.5196946859359741,\n",
       "  0.7355295419692993,\n",
       "  0.539320170879364,\n",
       "  0.908563494682312,\n",
       "  0.5768406391143799,\n",
       "  0.9044867157936096],\n",
       " [0.3525350093841553,\n",
       "  0.2745886445045471,\n",
       "  0.6564784049987793,\n",
       "  0.24727368354797363,\n",
       "  0.2971954047679901,\n",
       "  0.4739854335784912,\n",
       "  0.6699216365814209,\n",
       "  0.4186491072177887,\n",
       "  0.14307808876037598,\n",
       "  0.5988818407058716,\n",
       "  0.5089381337165833,\n",
       "  0.5230653285980225,\n",
       "  0.1188022792339325,\n",
       "  0.638492226600647,\n",
       "  0.4562930464744568,\n",
       "  0.5482710003852844,\n",
       "  0.09448915719985962,\n",
       "  0.6362811923027039,\n",
       "  0.4180830121040344,\n",
       "  0.5494264364242554,\n",
       "  0.10424912720918655,\n",
       "  0.6217052340507507,\n",
       "  0.4286491274833679,\n",
       "  0.5453686714172363,\n",
       "  0.5395992398262024,\n",
       "  0.5789903402328491,\n",
       "  0.7461800575256348,\n",
       "  0.5664526224136353,\n",
       "  0.4847487211227417,\n",
       "  0.7657110691070557,\n",
       "  0.7037373185157776,\n",
       "  0.7330658435821533,\n",
       "  0.46927088499069214,\n",
       "  0.9315364360809326,\n",
       "  0.7793145775794983,\n",
       "  0.8986936807632446],\n",
       " [0.3397216200828552,\n",
       "  0.22778862714767456,\n",
       "  0.6119210720062256,\n",
       "  0.1979036033153534,\n",
       "  0.33646756410598755,\n",
       "  0.39736294746398926,\n",
       "  0.7160476446151733,\n",
       "  0.36676377058029175,\n",
       "  0.18268656730651855,\n",
       "  0.5154901146888733,\n",
       "  0.5571904182434082,\n",
       "  0.5023413896560669,\n",
       "  0.1419689953327179,\n",
       "  0.551663875579834,\n",
       "  0.5309968590736389,\n",
       "  0.527433454990387,\n",
       "  0.1175478994846344,\n",
       "  0.5464879870414734,\n",
       "  0.5024474859237671,\n",
       "  0.5279750227928162,\n",
       "  0.15353897213935852,\n",
       "  0.5351393818855286,\n",
       "  0.5063539147377014,\n",
       "  0.5205739140510559,\n",
       "  0.5611316561698914,\n",
       "  0.5227117538452148,\n",
       "  0.6853779554367065,\n",
       "  0.5093289613723755,\n",
       "  0.5662493705749512,\n",
       "  0.7333618998527527,\n",
       "  0.7423403263092041,\n",
       "  0.7123688459396362,\n",
       "  0.5990020632743835,\n",
       "  0.9274951219558716,\n",
       "  0.8173141479492188,\n",
       "  0.9035016298294067]]"
      ]
     },
     "execution_count": 85,
     "metadata": {},
     "output_type": "execute_result"
    }
   ],
   "source": [
    "skel_data_n"
   ]
  },
  {
   "cell_type": "code",
   "execution_count": null,
   "id": "ecec5fca-6e6f-46f5-b2e4-3aebbe9a3b93",
   "metadata": {},
   "outputs": [],
   "source": []
  },
  {
   "cell_type": "code",
   "execution_count": null,
   "id": "f3e3d3af-264a-42d8-8de7-4a6d29bb23c3",
   "metadata": {},
   "outputs": [],
   "source": []
  },
  {
   "cell_type": "code",
   "execution_count": 78,
   "id": "919dd7c3-5315-4692-a648-41988dedfd8a",
   "metadata": {},
   "outputs": [
    {
     "name": "stdout",
     "output_type": "stream",
     "text": [
      "normal data: 14 | abnormal data: 16\n"
     ]
    }
   ],
   "source": [
    "# dataset 길이 출력\n",
    "\n",
    "nd = 0\n",
    "ad = 0\n",
    "for i in range(len(raw_data)):\n",
    "    if raw_data[i]['key'] == 0:\n",
    "        nd += 1\n",
    "    else:\n",
    "        ad += 1\n",
    "print('normal data:', nd, '| abnormal data:', ad)"
   ]
  },
  {
   "cell_type": "code",
   "execution_count": 82,
   "id": "0720ffab-ca7f-421f-bce2-516918b35601",
   "metadata": {},
   "outputs": [
    {
     "data": {
      "text/plain": [
       "30"
      ]
     },
     "execution_count": 82,
     "metadata": {},
     "output_type": "execute_result"
    }
   ],
   "source": [
    "len(seq_list_n)"
   ]
  },
  {
   "cell_type": "code",
   "execution_count": null,
   "id": "5dd9f493-2eaf-4651-bc70-196e781bb2d7",
   "metadata": {},
   "outputs": [],
   "source": []
  }
 ],
 "metadata": {
  "kernelspec": {
   "display_name": "yolo5test",
   "language": "python",
   "name": "yolo5test"
  },
  "language_info": {
   "codemirror_mode": {
    "name": "ipython",
    "version": 3
   },
   "file_extension": ".py",
   "mimetype": "text/x-python",
   "name": "python",
   "nbconvert_exporter": "python",
   "pygments_lexer": "ipython3",
   "version": "3.11.7"
  }
 },
 "nbformat": 4,
 "nbformat_minor": 5
}
